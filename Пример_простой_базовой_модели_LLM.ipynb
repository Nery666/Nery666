{
  "nbformat": 4,
  "nbformat_minor": 0,
  "metadata": {
    "colab": {
      "provenance": [],
      "authorship_tag": "ABX9TyP9BXh6pW87lB7+HS6FIVze",
      "include_colab_link": true
    },
    "kernelspec": {
      "name": "python3",
      "display_name": "Python 3"
    },
    "language_info": {
      "name": "python"
    }
  },
  "cells": [
    {
      "cell_type": "markdown",
      "metadata": {
        "id": "view-in-github",
        "colab_type": "text"
      },
      "source": [
        "<a href=\"https://colab.research.google.com/github/Nery666/Nery666/blob/main/%D0%9F%D1%80%D0%B8%D0%BC%D0%B5%D1%80_%D0%BF%D1%80%D0%BE%D1%81%D1%82%D0%BE%D0%B9_%D0%B1%D0%B0%D0%B7%D0%BE%D0%B2%D0%BE%D0%B9_%D0%BC%D0%BE%D0%B4%D0%B5%D0%BB%D0%B8_LLM.ipynb\" target=\"_parent\"><img src=\"https://colab.research.google.com/assets/colab-badge.svg\" alt=\"Open In Colab\"/></a>"
      ]
    },
    {
      "cell_type": "code",
      "source": [
        "import torch\n",
        "import torch.nn as nn\n",
        "import torch.optim as optim\n",
        "from copy import deepcopy\n",
        "\n",
        "# Пример простой базовой модели (упрощение LLM)\n",
        "class BaseModel(nn.Module):\n",
        "    def __init__(self):\n",
        "        super().__init__()\n",
        "        self.linear = nn.Linear(10, 1)\n",
        "\n",
        "    def forward(self, x):\n",
        "        return self.linear(x)\n",
        "\n",
        "# LoRA адаптер (низкоранговая адаптация)\n",
        "class LoRAAdapter(nn.Module):\n",
        "    def __init__(self, base_dim=10, rank=4):\n",
        "        super().__init__()\n",
        "        self.A = nn.Linear(base_dim, rank, bias=False)\n",
        "        self.B = nn.Linear(rank, base_dim, bias=False)\n",
        "\n",
        "    def forward(self, x):\n",
        "        return self.B(self.A(x))\n",
        "\n",
        "# Модель с LoRA\n",
        "class ModelWithLoRA(nn.Module):\n",
        "    def __init__(self):\n",
        "        super().__init__()\n",
        "        self.base = BaseModel()\n",
        "        self.lora = LoRAAdapter()\n",
        "\n",
        "    def forward(self, x):\n",
        "        base_out = self.base(x)\n",
        "        lora_out = self.lora(x)\n",
        "        return base_out + lora_out\n",
        "\n",
        "# Функция одной внутренней адаптации (один шаг градиентного спуска)\n",
        "def inner_adaptation(model, loss_fn, x, y, inner_lr):\n",
        "    adapted_model = deepcopy(model)\n",
        "    optimizer = optim.SGD(adapted_model.lora.parameters(), lr=inner_lr)\n",
        "    optimizer.zero_grad()\n",
        "    pred = adapted_model(x)\n",
        "    loss = loss_fn(pred, y)\n",
        "    loss.backward()\n",
        "    optimizer.step()\n",
        "    return adapted_model\n",
        "\n",
        "# MAML обучение\n",
        "def maml_training_step(model, loss_fn, tasks, inner_lr, meta_lr):\n",
        "    meta_optimizer = optim.Adam(model.parameters(), lr=meta_lr)\n",
        "    meta_optimizer.zero_grad()\n",
        "    meta_loss = 0.0\n",
        "\n",
        "    for x_train, y_train, x_val, y_val in tasks:\n",
        "        # Внутреннее обучение на одной задаче\n",
        "        adapted_model = inner_adaptation(model, loss_fn, x_train, y_train, inner_lr)\n",
        "        # Вычисляем ошибку на валидации после адаптации\n",
        "        val_pred = adapted_model(x_val)\n",
        "        val_loss = loss_fn(val_pred, y_val)\n",
        "        meta_loss += val_loss\n",
        "\n",
        "    meta_loss /= len(tasks)\n",
        "    meta_loss.backward()\n",
        "    meta_optimizer.step()\n",
        "\n",
        "    return meta_loss.item()\n",
        "\n",
        "# Демонстрация\n",
        "if __name__ == \"__main__\":\n",
        "    model = ModelWithLoRA()\n",
        "    loss_fn = nn.MSELoss()\n",
        "\n",
        "    # Сгенерируем примеры задач (по 4 задачи)\n",
        "    tasks = []\n",
        "    for _ in range(4):\n",
        "        x_train = torch.randn(16, 10)\n",
        "        y_train = torch.randn(16, 1)\n",
        "        x_val = torch.randn(16, 10)\n",
        "        y_val = torch.randn(16, 1)\n",
        "        tasks.append((x_train, y_train, x_val, y_val))\n",
        "\n",
        "    for step in range(50):\n",
        "        loss = maml_training_step(model, loss_fn, tasks, inner_lr=0.01, meta_lr=0.001)\n",
        "        if step % 10 == 0:\n",
        "            print(f\"Step {step}, Meta Loss: {loss:.4f}\")"
      ],
      "metadata": {
        "colab": {
          "base_uri": "https://localhost:8080/"
        },
        "id": "Jz_KqZagCHKU",
        "outputId": "be0c48e5-2c60-4088-839e-0bb2208cd6e3"
      },
      "execution_count": 4,
      "outputs": [
        {
          "output_type": "stream",
          "name": "stderr",
          "text": [
            "/usr/local/lib/python3.11/dist-packages/torch/nn/modules/loss.py:610: UserWarning: Using a target size (torch.Size([16, 1])) that is different to the input size (torch.Size([16, 10])). This will likely lead to incorrect results due to broadcasting. Please ensure they have the same size.\n",
            "  return F.mse_loss(input, target, reduction=self.reduction)\n"
          ]
        },
        {
          "output_type": "stream",
          "name": "stdout",
          "text": [
            "Step 0, Meta Loss: 1.4526\n",
            "Step 10, Meta Loss: 1.4526\n",
            "Step 20, Meta Loss: 1.4526\n",
            "Step 30, Meta Loss: 1.4526\n",
            "Step 40, Meta Loss: 1.4526\n"
          ]
        }
      ]
    }
  ]
}